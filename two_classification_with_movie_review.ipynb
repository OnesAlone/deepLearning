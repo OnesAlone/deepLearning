{
 "cells": [
  {
   "cell_type": "code",
   "execution_count": 1,
   "metadata": {},
   "outputs": [
    {
     "name": "stderr",
     "output_type": "stream",
     "text": [
      "D:\\program_study\\anaconda\\lib\\site-packages\\h5py\\__init__.py:34: FutureWarning: Conversion of the second argument of issubdtype from `float` to `np.floating` is deprecated. In future, it will be treated as `np.float64 == np.dtype(float).type`.\n",
      "  from ._conv import register_converters as _register_converters\n"
     ]
    }
   ],
   "source": [
    "# 本章节是一个关于文本的二分类问题\n",
    "# 数据集是来自IMDB_dataset 包括了50000条电影评论被分为积极的和消极的两部分，样本是平衡状态的\n",
    "import tensorflow as tf"
   ]
  },
  {
   "cell_type": "code",
   "execution_count": 2,
   "metadata": {},
   "outputs": [],
   "source": [
    "from tensorflow import keras\n",
    "import numpy as np\n",
    "\n",
    "imdb = keras.datasets.imdb\n",
    "(train_data, train_labels), (test_data, test_labels) = imdb.load_data(num_words=10000)"
   ]
  },
  {
   "cell_type": "code",
   "execution_count": 3,
   "metadata": {},
   "outputs": [
    {
     "data": {
      "text/plain": [
       "(25000,)"
      ]
     },
     "execution_count": 3,
     "metadata": {},
     "output_type": "execute_result"
    }
   ],
   "source": [
    "# 查看一下是否下载成功\n",
    "train_data.shape"
   ]
  },
  {
   "cell_type": "code",
   "execution_count": 4,
   "metadata": {},
   "outputs": [
    {
     "data": {
      "text/plain": [
       "(218, 189)"
      ]
     },
     "execution_count": 4,
     "metadata": {},
     "output_type": "execute_result"
    }
   ],
   "source": [
    "len(train_data[0]), len(train_data[1])"
   ]
  },
  {
   "cell_type": "code",
   "execution_count": 5,
   "metadata": {},
   "outputs": [],
   "source": [
    "# 字典:用于将数字转向单词\n",
    "word_index = imdb.get_word_index()\n",
    "\n",
    "# key值不变，value值加3，并新增了4个键值对\n",
    "word_index = {k:(v+3) for k,v in word_index.items()}\n",
    "word_index[\"<PAD>\"] = 0 # 用来将每一个sentence扩充到同等长度\n",
    "word_index[\"<START>\"] = 1\n",
    "word_index[\"<UNK>\"] = 2 # 未知，可能是生僻单词或是人名\n",
    "word_index[\"UNUSED\"] = 3\n",
    "\n",
    "# 将键值对的键与值互换\n",
    "reverse_word_index = dict([(value,key) for (key,value) in word_index.items()])\n",
    "\n",
    "# 转译为原句\n",
    "def decode_review(text):\n",
    "    return ' '.join([reverse_word_index.get(i,'?') for i in text])"
   ]
  },
  {
   "cell_type": "code",
   "execution_count": 6,
   "metadata": {},
   "outputs": [
    {
     "data": {
      "text/plain": [
       "\"<START> this film was just brilliant casting location scenery story direction everyone's really suited the part they played and you could just imagine being there robert <UNK> is an amazing actor and now the same being director <UNK> father came from the same scottish island as myself so i loved the fact there was a real connection with this film the witty remarks throughout the film were great it was just brilliant so much that i bought the film as soon as it was released for <UNK> and would recommend it to everyone to watch and the fly fishing was amazing really cried at the end it was so sad and you know what they say if you cry at a film it must have been good and this definitely was also <UNK> to the two little boy's that played the <UNK> of norman and paul they were just brilliant children are often left out of the <UNK> list i think because the stars that play them all grown up are such a big profile for the whole film but these children are amazing and should be praised for what they have done don't you think the whole story was so lovely because it was true and was someone's life after all that was shared with us all\""
      ]
     },
     "execution_count": 6,
     "metadata": {},
     "output_type": "execute_result"
    }
   ],
   "source": [
    "decode_review(train_data[0])"
   ]
  },
  {
   "cell_type": "code",
   "execution_count": 7,
   "metadata": {
    "collapsed": true
   },
   "outputs": [],
   "source": [
    "# 有两种方式将整数数组送进神经网络\n",
    "# 第一种：one-hot编码 将每一个sequence转译成num_words(10000)个 0s和 1s,代表每一个单词是否出现过，这种方式仅统计是否出现和不统计词频，\n",
    "# 且是内存密集型的编码，总计会有num_words * num_reviews 大小的matrix\n",
    "# 第二种：扩展整数数组让他们拥有相同的长度，这样每一个sequence会有共同的max_length（256），总计会占用 max_length*num_reviews大小\n",
    "# 教程内采用第二种，在sequence后面扩充\n",
    "train_data = keras.preprocessing.sequence.pad_sequences(train_data,value=word_index[\"<PAD>\"],padding='post',maxlen=256)\n",
    "\n",
    "test_data = keras.preprocessing.sequence.pad_sequences(test_data,value=word_index[\"<PAD>\"],padding='post',maxlen=256)"
   ]
  },
  {
   "cell_type": "code",
   "execution_count": 8,
   "metadata": {},
   "outputs": [
    {
     "data": {
      "text/plain": [
       "(256, 256)"
      ]
     },
     "execution_count": 8,
     "metadata": {},
     "output_type": "execute_result"
    }
   ],
   "source": [
    "len(train_data[0]),len(train_data[10])"
   ]
  },
  {
   "cell_type": "code",
   "execution_count": 9,
   "metadata": {},
   "outputs": [
    {
     "name": "stdout",
     "output_type": "stream",
     "text": [
      "_________________________________________________________________\n",
      "Layer (type)                 Output Shape              Param #   \n",
      "=================================================================\n",
      "embedding (Embedding)        (None, None, 16)          160000    \n",
      "_________________________________________________________________\n",
      "global_average_pooling1d (Gl (None, 16)                0         \n",
      "_________________________________________________________________\n",
      "dense (Dense)                (None, 16)                272       \n",
      "_________________________________________________________________\n",
      "dense_1 (Dense)              (None, 1)                 17        \n",
      "=================================================================\n",
      "Total params: 160,289\n",
      "Trainable params: 160,289\n",
      "Non-trainable params: 0\n",
      "_________________________________________________________________\n"
     ]
    }
   ],
   "source": [
    "# 构建模型\n",
    "# 输入数据是单词组合，标签是0或者1\n",
    "# 先进行数据稀疏稠密化，因为sequence里面的word_index值是[0~10000]内稀疏的，所以将每一个单词用一个16维的向量代替；input(1024,256)output(1024,256,16)\n",
    "# 再通过均值的池化层，将每一个sequence做均值，类似于将单词合并 ;input(1024,256,16),output(1024,16)\n",
    "# 全连接层采用relu激活函数;input(1024,16),output(1024,16)\n",
    "# 全连接层采用sigmoid激活函数；input(1024,16),output(1024,1)\n",
    "vocab_size = 10000\n",
    "\n",
    "model = keras.Sequential()\n",
    "model.add(keras.layers.Embedding(vocab_size,16))\n",
    "model.add(keras.layers.GlobalAveragePooling1D())\n",
    "model.add(keras.layers.Dense(16,activation=tf.nn.relu))\n",
    "model.add(keras.layers.Dense(1,activation=tf.nn.sigmoid))\n",
    "\n",
    "model.summary()"
   ]
  },
  {
   "cell_type": "code",
   "execution_count": 10,
   "metadata": {},
   "outputs": [],
   "source": [
    "# 因为采用了sigmoid激活函数，所以损失函数不能用mse均方误差，因为在sigmoid函数的两端梯度很小，会使w和b更新很慢\n",
    "# 所以采用交叉熵代价函数（cross-entropy cost function）\n",
    "# 交叉熵代价函数具有非负性和当真实输出与期望输出相近的时候，代价函数接近于零\n",
    "model.compile(optimizer=tf.train.AdamOptimizer(),loss='binary_crossentropy',metrics=['accuracy'])"
   ]
  },
  {
   "cell_type": "code",
   "execution_count": 11,
   "metadata": {
    "collapsed": true
   },
   "outputs": [],
   "source": [
    "x_val =train_data[:10000]\n",
    "partial_x_train = train_data[10000:]\n",
    "\n",
    "y_val = train_labels[:10000]\n",
    "partial_y_train = train_labels[10000:]"
   ]
  },
  {
   "cell_type": "code",
   "execution_count": 12,
   "metadata": {},
   "outputs": [
    {
     "name": "stdout",
     "output_type": "stream",
     "text": [
      "Train on 15000 samples, validate on 10000 samples\n",
      "Epoch 1/40\n",
      "15000/15000 [==============================] - 1s 71us/step - loss: 0.6920 - acc: 0.5508 - val_loss: 0.6906 - val_acc: 0.5857\n",
      "Epoch 2/40\n",
      "15000/15000 [==============================] - 1s 40us/step - loss: 0.6883 - acc: 0.6901 - val_loss: 0.6865 - val_acc: 0.7381\n",
      "Epoch 3/40\n",
      "15000/15000 [==============================] - 1s 39us/step - loss: 0.6829 - acc: 0.7601 - val_loss: 0.6804 - val_acc: 0.7343\n",
      "Epoch 4/40\n",
      "15000/15000 [==============================] - 1s 39us/step - loss: 0.6744 - acc: 0.7575 - val_loss: 0.6709 - val_acc: 0.7452\n",
      "Epoch 5/40\n",
      "15000/15000 [==============================] - 1s 40us/step - loss: 0.6627 - acc: 0.7718 - val_loss: 0.6592 - val_acc: 0.7601\n",
      "Epoch 6/40\n",
      "15000/15000 [==============================] - 1s 39us/step - loss: 0.6480 - acc: 0.7817 - val_loss: 0.6445 - val_acc: 0.7685\n",
      "Epoch 7/40\n",
      "15000/15000 [==============================] - 1s 40us/step - loss: 0.6301 - acc: 0.7905 - val_loss: 0.6272 - val_acc: 0.7749\n",
      "Epoch 8/40\n",
      "15000/15000 [==============================] - 1s 39us/step - loss: 0.6094 - acc: 0.8001 - val_loss: 0.6073 - val_acc: 0.7865\n",
      "Epoch 9/40\n",
      "15000/15000 [==============================] - 1s 39us/step - loss: 0.5863 - acc: 0.8089 - val_loss: 0.5857 - val_acc: 0.7926\n",
      "Epoch 10/40\n",
      "15000/15000 [==============================] - 1s 40us/step - loss: 0.5615 - acc: 0.8203 - val_loss: 0.5627 - val_acc: 0.7991\n",
      "Epoch 11/40\n",
      "15000/15000 [==============================] - 1s 40us/step - loss: 0.5357 - acc: 0.8270 - val_loss: 0.5395 - val_acc: 0.8087\n",
      "Epoch 12/40\n",
      "15000/15000 [==============================] - 1s 41us/step - loss: 0.5092 - acc: 0.8389 - val_loss: 0.5160 - val_acc: 0.8194\n",
      "Epoch 13/40\n",
      "15000/15000 [==============================] - 1s 42us/step - loss: 0.4829 - acc: 0.8480 - val_loss: 0.4940 - val_acc: 0.8263\n",
      "Epoch 14/40\n",
      "15000/15000 [==============================] - 1s 40us/step - loss: 0.4580 - acc: 0.8557 - val_loss: 0.4713 - val_acc: 0.8358\n",
      "Epoch 15/40\n",
      "15000/15000 [==============================] - 1s 42us/step - loss: 0.4336 - acc: 0.8633 - val_loss: 0.4511 - val_acc: 0.8398\n",
      "Epoch 16/40\n",
      "15000/15000 [==============================] - 1s 41us/step - loss: 0.4111 - acc: 0.8709 - val_loss: 0.4326 - val_acc: 0.8450\n",
      "Epoch 17/40\n",
      "15000/15000 [==============================] - 1s 41us/step - loss: 0.3903 - acc: 0.8765 - val_loss: 0.4160 - val_acc: 0.8520\n",
      "Epoch 18/40\n",
      "15000/15000 [==============================] - 1s 41us/step - loss: 0.3713 - acc: 0.8819 - val_loss: 0.4012 - val_acc: 0.8541\n",
      "Epoch 19/40\n",
      "15000/15000 [==============================] - 1s 40us/step - loss: 0.3539 - acc: 0.8861 - val_loss: 0.3877 - val_acc: 0.8565\n",
      "Epoch 20/40\n",
      "15000/15000 [==============================] - 1s 43us/step - loss: 0.3382 - acc: 0.8915 - val_loss: 0.3759 - val_acc: 0.8616\n",
      "Epoch 21/40\n",
      "15000/15000 [==============================] - 1s 39us/step - loss: 0.3236 - acc: 0.8949 - val_loss: 0.3654 - val_acc: 0.8636\n",
      "Epoch 22/40\n",
      "15000/15000 [==============================] - 1s 40us/step - loss: 0.3104 - acc: 0.8991 - val_loss: 0.3561 - val_acc: 0.8665\n",
      "Epoch 23/40\n",
      "15000/15000 [==============================] - 1s 42us/step - loss: 0.2982 - acc: 0.9011 - val_loss: 0.3481 - val_acc: 0.8675\n",
      "Epoch 24/40\n",
      "15000/15000 [==============================] - 1s 44us/step - loss: 0.2868 - acc: 0.9047 - val_loss: 0.3406 - val_acc: 0.8702\n",
      "Epoch 25/40\n",
      "15000/15000 [==============================] - 1s 42us/step - loss: 0.2763 - acc: 0.9086 - val_loss: 0.3340 - val_acc: 0.8733\n",
      "Epoch 26/40\n",
      "15000/15000 [==============================] - 1s 40us/step - loss: 0.2664 - acc: 0.9115 - val_loss: 0.3282 - val_acc: 0.8740\n",
      "Epoch 27/40\n",
      "15000/15000 [==============================] - 1s 40us/step - loss: 0.2573 - acc: 0.9137 - val_loss: 0.3230 - val_acc: 0.8753\n",
      "Epoch 28/40\n",
      "15000/15000 [==============================] - 1s 40us/step - loss: 0.2487 - acc: 0.9165 - val_loss: 0.3183 - val_acc: 0.8762\n",
      "Epoch 29/40\n",
      "15000/15000 [==============================] - 1s 46us/step - loss: 0.2405 - acc: 0.9191 - val_loss: 0.3142 - val_acc: 0.8779\n",
      "Epoch 30/40\n",
      "15000/15000 [==============================] - 1s 40us/step - loss: 0.2329 - acc: 0.9223 - val_loss: 0.3107 - val_acc: 0.8779\n",
      "Epoch 31/40\n",
      "15000/15000 [==============================] - 1s 45us/step - loss: 0.2255 - acc: 0.9242 - val_loss: 0.3077 - val_acc: 0.8786\n",
      "Epoch 32/40\n",
      "15000/15000 [==============================] - 1s 48us/step - loss: 0.2185 - acc: 0.9262 - val_loss: 0.3042 - val_acc: 0.8798\n",
      "Epoch 33/40\n",
      "15000/15000 [==============================] - 1s 45us/step - loss: 0.2121 - acc: 0.9284 - val_loss: 0.3022 - val_acc: 0.8798\n",
      "Epoch 34/40\n",
      "15000/15000 [==============================] - 1s 42us/step - loss: 0.2061 - acc: 0.9305 - val_loss: 0.3006 - val_acc: 0.8793\n",
      "Epoch 35/40\n",
      "15000/15000 [==============================] - 1s 39us/step - loss: 0.1997 - acc: 0.9341 - val_loss: 0.2973 - val_acc: 0.8809\n",
      "Epoch 36/40\n",
      "15000/15000 [==============================] - 1s 41us/step - loss: 0.1938 - acc: 0.9371 - val_loss: 0.2958 - val_acc: 0.8813\n",
      "Epoch 37/40\n",
      "15000/15000 [==============================] - 1s 42us/step - loss: 0.1888 - acc: 0.9389 - val_loss: 0.2942 - val_acc: 0.8823\n",
      "Epoch 38/40\n",
      "15000/15000 [==============================] - 1s 39us/step - loss: 0.1830 - acc: 0.9413 - val_loss: 0.2930 - val_acc: 0.8812\n",
      "Epoch 39/40\n",
      "15000/15000 [==============================] - 1s 42us/step - loss: 0.1779 - acc: 0.9440 - val_loss: 0.2920 - val_acc: 0.8814\n",
      "Epoch 40/40\n",
      "15000/15000 [==============================] - 1s 45us/step - loss: 0.1730 - acc: 0.9459 - val_loss: 0.2911 - val_acc: 0.8822\n"
     ]
    }
   ],
   "source": [
    "history = model.fit(partial_x_train,partial_y_train,epochs=40,batch_size=1024,validation_data=(x_val,y_val),verbose=1)"
   ]
  },
  {
   "cell_type": "code",
   "execution_count": 13,
   "metadata": {},
   "outputs": [
    {
     "name": "stdout",
     "output_type": "stream",
     "text": [
      "25000/25000 [==============================] - 1s 47us/step\n"
     ]
    }
   ],
   "source": [
    "# 测试集评估模型\n",
    "results = model.evaluate(test_data, test_labels)"
   ]
  },
  {
   "cell_type": "code",
   "execution_count": 14,
   "metadata": {},
   "outputs": [
    {
     "data": {
      "text/plain": [
       "[0.30940537487983705, 0.87352]"
      ]
     },
     "execution_count": 14,
     "metadata": {},
     "output_type": "execute_result"
    }
   ],
   "source": [
    "results"
   ]
  },
  {
   "cell_type": "code",
   "execution_count": 15,
   "metadata": {},
   "outputs": [
    {
     "data": {
      "text/plain": [
       "dict_keys(['val_loss', 'val_acc', 'loss', 'acc'])"
      ]
     },
     "execution_count": 15,
     "metadata": {},
     "output_type": "execute_result"
    }
   ],
   "source": [
    "history_dict = history.history\n",
    "history_dict.keys()"
   ]
  },
  {
   "cell_type": "code",
   "execution_count": 16,
   "metadata": {},
   "outputs": [
    {
     "data": {
      "image/png": "[encoded data removed]",
      "text/plain": [
       "<matplotlib.figure.Figure at 0x1e57b5eb860>"
      ]
     },
     "metadata": {},
     "output_type": "display_data"
    }
   ],
   "source": [
    "# 用matplot做一下显示\n",
    "import matplotlib.pyplot as plt\n",
    "\n",
    "acc = history.history['acc']\n",
    "val_acc = history.history['val_acc']\n",
    "loss = history.history['loss']\n",
    "val_loss = history.history['val_loss']\n",
    "\n",
    "epochs = range(1, len(acc) + 1)\n",
    "\n",
    "plt.plot(epochs, loss, 'bo', label='Training loss')\n",
    "plt.plot(epochs, val_loss, 'b', label='Validation loss')\n",
    "plt.title('Training and validation loss')\n",
    "plt.xlabel('Epochs')\n",
    "plt.ylabel('Loss')\n",
    "plt.legend()\n",
    "\n",
    "plt.show()"
   ]
  },
  {
   "cell_type": "code",
   "execution_count": 17,
   "metadata": {},
   "outputs": [
    {
     "data": {
      "image/png": "[encoded data removed]",
      "text/plain": [
       "<matplotlib.figure.Figure at 0x1e500b42208>"
      ]
     },
     "metadata": {},
     "output_type": "display_data"
    }
   ],
   "source": [
    "plt.clf()   # 清除图表\n",
    "acc_values = history_dict['acc']\n",
    "val_acc_values = history_dict['val_acc']\n",
    "\n",
    "plt.plot(epochs, acc, 'bo', label='Training acc')\n",
    "plt.plot(epochs, val_acc, 'b', label='Validation acc')\n",
    "plt.title('Training and validation accuracy')\n",
    "plt.xlabel('Epochs')\n",
    "plt.ylabel('Accuracy')\n",
    "plt.legend()\n",
    "\n",
    "plt.show()"
   ]
  },
  {
   "cell_type": "code",
   "execution_count": null,
   "metadata": {
    "collapsed": true
   },
   "outputs": [],
   "source": []
  }
 ],
 "metadata": {
  "kernelspec": {
   "display_name": "Python 3",
   "language": "python",
   "name": "python3"
  },
  "language_info": {
   "codemirror_mode": {
    "name": "ipython",
    "version": 3
   },
   "file_extension": ".py",
   "mimetype": "text/x-python",
   "name": "python",
   "nbconvert_exporter": "python",
   "pygments_lexer": "ipython3",
   "version": "3.6.2"
  }
 },
 "nbformat": 4,
 "nbformat_minor": 2
}
